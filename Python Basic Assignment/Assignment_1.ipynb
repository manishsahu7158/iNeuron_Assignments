{
 "cells": [
  {
   "cell_type": "raw",
   "metadata": {},
   "source": [
    "# Question 1\n",
    "\n",
    "* - Expression\n",
    "'hello' - Values\n",
    "-87.8 - Values\n",
    "- Expression\n",
    "/ Expression\n",
    "+ Expression\n",
    "6 - Values"
   ]
  },
  {
   "cell_type": "raw",
   "metadata": {},
   "source": [
    "# Question 2\n",
    "#What is the difference between string and variable?\n",
    "String is a value that represents text.It is enclosed wih \"\"\n",
    "e.g- \"Python\"\n",
    "A variable is a name that can refer to any value.\n",
    "e.g- x=5"
   ]
  },
  {
   "cell_type": "raw",
   "metadata": {},
   "source": [
    "# Question 3\n",
    "# Describe three different data types.\n",
    "String - String is a value that represents text.It is enclosed wih \"\"\n",
    "E.g - \"Welcome\"\n",
    "Integer - It represents whole number.\n",
    "E.g - 6\n",
    "Boolean - It represents logical values.\n",
    "E.g - True, False"
   ]
  },
  {
   "cell_type": "raw",
   "metadata": {},
   "source": [
    "# Question 4\n",
    "# What is an expression made up of? What do all expressions do?\n",
    "An expression is a combination of operators, constants and variables.Expressions are representations of value.\n",
    "e.g 2+3 \n",
    "\n"
   ]
  },
  {
   "cell_type": "raw",
   "metadata": {},
   "source": [
    "# Question 5\n",
    "This assignment statements, like spam = 10. What is the difference between an\n",
    "expression and a statement?\n",
    "An expression is a combination of operators, constants and variables. \n",
    "The statement is just like a command that a python interpreter executes like print.\n",
    "Here 10 is assigned to spam."
   ]
  },
  {
   "cell_type": "raw",
   "metadata": {},
   "source": [
    "#Question 6\n",
    "bacon = 22\n",
    "bacon + 1\n",
    "# Ans - 23"
   ]
  },
  {
   "cell_type": "raw",
   "metadata": {},
   "source": [
    "# Question 7\n",
    "'spam'+'spamspam' = 'spamspamspam'\n",
    "'spam'*3 = 'spamspamspam'"
   ]
  },
  {
   "cell_type": "raw",
   "metadata": {},
   "source": [
    "# Question 8\n",
    "Why is eggs a valid variable name while 100 is invalid?\n",
    "Because variable names begins with a string and here, 100 is a integer, we can't assign an integer as an variable name.\n",
    "By assigning 100 as a variable name, i will show SyntaxError."
   ]
  },
  {
   "cell_type": "raw",
   "metadata": {},
   "source": [
    "# Question 9\n",
    "What three functions can be used to get the integer, floating-point number, or string version of a value?\n",
    "Ans - int(), float(), str()"
   ]
  },
  {
   "cell_type": "raw",
   "metadata": {},
   "source": [
    "# Question 10\n",
    "Why does this expression cause an error? How can you fix it?\n",
    "'I have eaten' + 99 + 'burritos'\n",
    "Ans- Because 99 is an integer. It can't be concatenated with strings, if we have to concatenate it we need to do typecasting.\n",
    "'I have eaten' + '99' + 'burritos'"
   ]
  }
 ],
 "metadata": {
  "kernelspec": {
   "display_name": "Python 3",
   "language": "python",
   "name": "python3"
  },
  "language_info": {
   "codemirror_mode": {
    "name": "ipython",
    "version": 3
   },
   "file_extension": ".py",
   "mimetype": "text/x-python",
   "name": "python",
   "nbconvert_exporter": "python",
   "pygments_lexer": "ipython3",
   "version": "3.8.5"
  }
 },
 "nbformat": 4,
 "nbformat_minor": 4
}
