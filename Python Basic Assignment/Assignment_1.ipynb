{
 "cells": [
  {
   "cell_type": "markdown",
   "metadata": {},
   "source": [
    "# Question 1\n",
    "\n",
    "* - Expression\n",
    "'hello' - Values\n",
    "-87.8 - Values\n",
    "- Expression\n",
    "/ Expression\n",
    "+ Expression\n",
    "6 - Values"
   ]
  },
  {
   "cell_type": "markdown",
   "metadata": {},
   "source": [
    "# Question 2\n",
    "What is the difference between string and variable?\n",
    "\n",
    "String is a value that represents text.It is enclosed wih \"\"\n",
    "\n",
    "e.g- \"Python\"\n",
    "\n",
    "A variable is a name that can refer to any value.\n",
    "\n",
    "e.g- x=5"
   ]
  },
  {
   "cell_type": "markdown",
   "metadata": {},
   "source": [
    "# Question 3:Describe three different data types.\n",
    "\n",
    "String - String is a value that represents text.It is enclosed wih \"\"\n",
    "\n",
    "E.g - \"Welcome\"\n",
    "\n",
    "Integer - It represents whole number.\n",
    "\n",
    "E.g - 6\n",
    "\n",
    "Boolean - It represents logical values.\n",
    "\n",
    "E.g - True, False"
   ]
  },
  {
   "cell_type": "markdown",
   "metadata": {},
   "source": [
    "# Question 4: What is an expression made up of? What do all expressions do?\n",
    "\n",
    "An expression is a combination of operators, constants and variables.Expressions are representations of value.\n",
    "\n",
    "e.g 2+3 \n",
    "\n"
   ]
  },
  {
   "cell_type": "markdown",
   "metadata": {},
   "source": [
    "# Question 5 :This assignment statements, like spam = 10. What is the difference between an expression and a statement?\n",
    "An expression is a combination of operators, constants and variables. \n",
    "The statement is just like a command that a python interpreter executes like print.\n",
    "Here 10 is assigned to spam."
   ]
  },
  {
   "cell_type": "markdown",
   "metadata": {},
   "source": [
    "#Question 6\n",
    "\n",
    "bacon = 22\n",
    "\n",
    "bacon + 1\n",
    "\n",
    "Ans - 23"
   ]
  },
  {
   "cell_type": "markdown",
   "metadata": {},
   "source": [
    "# Question 7\n",
    "\n",
    "'spam'+'spamspam' = 'spamspamspam'\n",
    "\n",
    "'spam'*3 = 'spamspamspam'"
   ]
  },
  {
   "cell_type": "markdown",
   "metadata": {},
   "source": [
    "# Question 8: Why is eggs a valid variable name while 100 is invalid?\n",
    "\n",
    "Because variable names begins with a string and here, 100 is a integer, we can't assign an integer as an variable name.\n",
    "By assigning 100 as a variable name, i will show SyntaxError."
   ]
  },
  {
   "cell_type": "markdown",
   "metadata": {},
   "source": [
    "# Question 9 :What three functions can be used to get the integer, floating-point number, or string version of a value?\n",
    "\n",
    "Ans - int(), float(), str()"
   ]
  },
  {
   "cell_type": "markdown",
   "metadata": {},
   "source": [
    "# Question 10 :Why does this expression cause an error? How can you fix it? 'I have eaten' + 99 + 'burritos'\n",
    "\n",
    "Ans- Because 99 is an integer. It can't be concatenated with strings, if we have to concatenate it we need to do typecasting.\n",
    "'I have eaten' + '99' + 'burritos'"
   ]
  },
  {
   "cell_type": "code",
   "execution_count": null,
   "metadata": {},
   "outputs": [],
   "source": []
  }
 ],
 "metadata": {
  "kernelspec": {
   "display_name": "Python 3",
   "language": "python",
   "name": "python3"
  },
  "language_info": {
   "codemirror_mode": {
    "name": "ipython",
    "version": 3
   },
   "file_extension": ".py",
   "mimetype": "text/x-python",
   "name": "python",
   "nbconvert_exporter": "python",
   "pygments_lexer": "ipython3",
   "version": "3.8.5"
  }
 },
 "nbformat": 4,
 "nbformat_minor": 4
}
