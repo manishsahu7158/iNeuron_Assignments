{
 "cells": [
  {
   "cell_type": "markdown",
   "metadata": {},
   "source": [
    "Question 1: Write a Python Program to Find the Factorial of a Number?"
   ]
  },
  {
   "cell_type": "code",
   "execution_count": 2,
   "metadata": {},
   "outputs": [
    {
     "name": "stdout",
     "output_type": "stream",
     "text": [
      "Enter a number 3\n",
      "factorial is  6\n"
     ]
    }
   ],
   "source": [
    "n= int(input(\"Enter a number \"))\n",
    "def factorial(n):\n",
    "    if n==1:\n",
    "        return 1\n",
    "    else:\n",
    "        return (n*factorial(n-1))\n",
    "result = factorial(n)\n",
    "print(\"factorial is \", result)"
   ]
  },
  {
   "cell_type": "markdown",
   "metadata": {},
   "source": [
    "Question 2: Write a Python Program to Display the multiplication Table?"
   ]
  },
  {
   "cell_type": "code",
   "execution_count": 3,
   "metadata": {},
   "outputs": [
    {
     "name": "stdout",
     "output_type": "stream",
     "text": [
      "Enter a number 4\n",
      "4 x 1 = 4\n",
      "4 x 2 = 8\n",
      "4 x 3 = 12\n",
      "4 x 4 = 16\n",
      "4 x 5 = 20\n",
      "4 x 6 = 24\n",
      "4 x 7 = 28\n",
      "4 x 8 = 32\n",
      "4 x 9 = 36\n",
      "4 x 10 = 40\n"
     ]
    }
   ],
   "source": [
    "n= int(input(\"Enter a number \"))\n",
    "def mul_table(n):\n",
    "    for i in range (1,11):\n",
    "        print(n,\"x\",i, \"=\", n*i)\n",
    "mul_table(n)"
   ]
  },
  {
   "cell_type": "markdown",
   "metadata": {},
   "source": [
    "Question 3: Write a Python Program to Print the Fibonacci sequence?"
   ]
  },
  {
   "cell_type": "code",
   "execution_count": 31,
   "metadata": {},
   "outputs": [
    {
     "name": "stdout",
     "output_type": "stream",
     "text": [
      "Enter the Range Number: 6\n",
      "0\n",
      "1\n",
      "1\n",
      "2\n",
      "3\n",
      "5\n"
     ]
    }
   ],
   "source": [
    "n = int(input(\"Enter the Range Number: \"))\n",
    "def Fibonacci(n):\n",
    "    if(n == 0):\n",
    "        return 0\n",
    "    elif(n == 1):\n",
    "        return 1\n",
    "    else:\n",
    "        return (Fibonacci(n - 2)+ Fibonacci(n - 1))\n",
    "\n",
    "for i in range(0, n):\n",
    "           print(Fibonacci(i))"
   ]
  },
  {
   "cell_type": "markdown",
   "metadata": {},
   "source": [
    "Question 4: Write a Python Program to Check Armstrong Number?"
   ]
  },
  {
   "cell_type": "code",
   "execution_count": 33,
   "metadata": {},
   "outputs": [
    {
     "name": "stdout",
     "output_type": "stream",
     "text": [
      "Enter a number 1634\n",
      "Armstrong num\n"
     ]
    }
   ],
   "source": [
    "n= int(input(\"Enter a number \"))\n",
    "\n",
    "def armstrong(n):\n",
    "    m = len(str(n))\n",
    "    temp = n\n",
    "    s=0\n",
    "    while temp !=0:\n",
    "        k = temp % 10\n",
    "        s += k**m\n",
    "        temp = temp//10\n",
    "    if s==n:\n",
    "        print(\"Armstrong num\")\n",
    "    else:\n",
    "        print(\"Not an armstrong num\")\n",
    "armstrong(n)\n",
    "    "
   ]
  },
  {
   "cell_type": "markdown",
   "metadata": {},
   "source": [
    "Question 5: Write a Python Program to Find Armstrong Number in an Interval?"
   ]
  },
  {
   "cell_type": "code",
   "execution_count": 37,
   "metadata": {},
   "outputs": [
    {
     "name": "stdout",
     "output_type": "stream",
     "text": [
      "Enter a number 10\n",
      "Enter a number 1000\n",
      "153\n",
      "370\n",
      "371\n",
      "407\n"
     ]
    }
   ],
   "source": [
    "lower = int(input(\"Enter a number \"))\n",
    "upper = int(input(\"Enter a number \"))\n",
    "def armstrong(lower,upper):\n",
    "    for i in range(lower,upper+1):\n",
    "        m= len(str(i))\n",
    "        temp = i\n",
    "        s=0\n",
    "        while temp !=0:\n",
    "            k = temp % 10\n",
    "            s += k**m\n",
    "            temp = temp//10\n",
    "        if s==i:\n",
    "            print(i)\n",
    "armstrong(lower,upper)   "
   ]
  },
  {
   "cell_type": "markdown",
   "metadata": {},
   "source": [
    "Question 6: Write a Python Program to Find the Sum of Natural Numbers?"
   ]
  },
  {
   "cell_type": "code",
   "execution_count": 39,
   "metadata": {},
   "outputs": [
    {
     "name": "stdout",
     "output_type": "stream",
     "text": [
      "Enter a number 5\n",
      "Sum is  15.0\n"
     ]
    }
   ],
   "source": [
    "n= int(input(\"Enter a number \"))\n",
    "def sum(n):\n",
    "    s= (n*(n+1))/2\n",
    "    print(\"Sum is \", s)\n",
    "sum(n)"
   ]
  },
  {
   "cell_type": "code",
   "execution_count": null,
   "metadata": {},
   "outputs": [],
   "source": []
  }
 ],
 "metadata": {
  "kernelspec": {
   "display_name": "Python 3",
   "language": "python",
   "name": "python3"
  },
  "language_info": {
   "codemirror_mode": {
    "name": "ipython",
    "version": 3
   },
   "file_extension": ".py",
   "mimetype": "text/x-python",
   "name": "python",
   "nbconvert_exporter": "python",
   "pygments_lexer": "ipython3",
   "version": "3.8.5"
  }
 },
 "nbformat": 4,
 "nbformat_minor": 4
}
